{
 "cells": [
  {
   "cell_type": "code",
   "execution_count": 1,
   "metadata": {
    "collapsed": false
   },
   "outputs": [
    {
     "name": "stderr",
     "output_type": "stream",
     "text": [
      "Using Theano backend.\n"
     ]
    }
   ],
   "source": [
    "import numpy as np\n",
    "from sklearn.base import TransformerMixin\n",
    "from sklearn.cross_validation import train_test_split, cross_val_score\n",
    "from sklearn.ensemble import RandomForestClassifier\n",
    "from sklearn.pipeline import make_pipeline\n",
    "from convnetskeras.convnets import preprocess_image_batch, convnet\n",
    "from skimage.transform import resize\n",
    "from keras.models import Model\n",
    "from convnetskeras.imagenet_tool import id_to_synset\n",
    "import theano\n",
    "from keras import backend as K"
   ]
  },
  {
   "cell_type": "markdown",
   "metadata": {},
   "source": [
    "## Using neural net features with random forest"
   ]
  },
  {
   "cell_type": "code",
   "execution_count": 2,
   "metadata": {
    "collapsed": true
   },
   "outputs": [],
   "source": [
    "def build_layer_prediction_function(model, input_layer_name=None, output_layer_name=None):\n",
    "    if input_layer_name is None:\n",
    "        input_layer = model.layers[0]\n",
    "    else:\n",
    "        input_layer = model.get_layer(input_layer_name)\n",
    "    \n",
    "    if output_layer_name is None:\n",
    "        output_layer = model.layers[-1]\n",
    "    else:\n",
    "        output_layer = model.get_layer(output_layer_name)\n",
    "\n",
    "    get_activations = K.function(\n",
    "        [input_layer.input, K.learning_phase()], \n",
    "         output_layer.output)\n",
    "    def fn(X):\n",
    "        learning_phase = False\n",
    "        return get_activations([X, learning_phase])\n",
    "    return fn"
   ]
  },
  {
   "cell_type": "code",
   "execution_count": 3,
   "metadata": {
    "collapsed": true
   },
   "outputs": [],
   "source": [
    "def resize_images(X, w, h):\n",
    "    X_new = np.empty((X.shape[0], w, h, 3))\n",
    "    for i in range(X.shape[0]):\n",
    "        X_new[i] = resize(X[i], (w, h), preserve_range=True)    \n",
    "    X_new = X_new.transpose((0, 3, 1, 2))\n",
    "    return X_new"
   ]
  },
  {
   "cell_type": "code",
   "execution_count": 4,
   "metadata": {
    "collapsed": true
   },
   "outputs": [],
   "source": [
    "data = np.load(\"train_64x64.npz\")"
   ]
  },
  {
   "cell_type": "code",
   "execution_count": 5,
   "metadata": {
    "collapsed": true
   },
   "outputs": [],
   "source": [
    "X, y = data['X'], data['y']"
   ]
  },
  {
   "cell_type": "code",
   "execution_count": 6,
   "metadata": {
    "collapsed": false
   },
   "outputs": [],
   "source": [
    "model = convnet('alexnet',weights_path=\"alexnet_weights.h5\", heatmap=False)"
   ]
  },
  {
   "cell_type": "code",
   "execution_count": 7,
   "metadata": {
    "collapsed": false
   },
   "outputs": [
    {
     "name": "stdout",
     "output_type": "stream",
     "text": [
      "input_1\n",
      "conv_1\n",
      "maxpooling2d_1\n",
      "convpool_1\n",
      "zeropadding2d_1\n",
      "lambda_1\n",
      "lambda_2\n",
      "conv_2_1\n",
      "conv_2_2\n",
      "conv_2\n",
      "maxpooling2d_2\n",
      "lambda_3\n",
      "zeropadding2d_2\n",
      "conv_3\n",
      "zeropadding2d_3\n",
      "lambda_4\n",
      "lambda_5\n",
      "conv_4_1\n",
      "conv_4_2\n",
      "conv_4\n",
      "zeropadding2d_4\n",
      "lambda_6\n",
      "lambda_7\n",
      "conv_5_1\n",
      "conv_5_2\n",
      "conv_5\n",
      "convpool_5\n",
      "flatten\n",
      "dense_1\n",
      "dropout_1\n",
      "dense_2\n",
      "dropout_2\n",
      "dense_3\n",
      "softmax\n"
     ]
    }
   ],
   "source": [
    "for l in model.layers:\n",
    "    print(l.name)"
   ]
  },
  {
   "cell_type": "code",
   "execution_count": 8,
   "metadata": {
    "collapsed": false
   },
   "outputs": [],
   "source": [
    "predict_dense2 = build_layer_prediction_function(model, output_layer_name='dense_2')"
   ]
  },
  {
   "cell_type": "code",
   "execution_count": 10,
   "metadata": {
    "collapsed": false
   },
   "outputs": [],
   "source": [
    "class NeuralTransformer(TransformerMixin):\n",
    "    \n",
    "    def __init__(self, fn, batch_size=512):\n",
    "        self.fn = fn\n",
    "        self.batch_size = batch_size\n",
    "    \n",
    "    def fit(self, X, y=None):\n",
    "        return self\n",
    "\n",
    "    def transform(self, X):\n",
    "        results = []\n",
    "        for i in range(0, X.shape[0], self.batch_size):\n",
    "            results.append(self.fn(resize_images(X[i:i+self.batch_size], 227, 227)))\n",
    "        return np.concatenate(results, axis=0)"
   ]
  },
  {
   "cell_type": "code",
   "execution_count": 11,
   "metadata": {
    "collapsed": true
   },
   "outputs": [],
   "source": [
    "clf = make_pipeline(\n",
    "    NeuralTransformer(predict_dense2),\n",
    "    RandomForestClassifier()\n",
    ")"
   ]
  },
  {
   "cell_type": "code",
   "execution_count": 13,
   "metadata": {
    "collapsed": false
   },
   "outputs": [
    {
     "name": "stderr",
     "output_type": "stream",
     "text": [
      "[Parallel(n_jobs=1)]: Done   2 out of   2 | elapsed: 51.7min finished\n"
     ]
    },
    {
     "data": {
      "text/plain": [
       "array([ 0.42218511,  0.42389381])"
      ]
     },
     "execution_count": 13,
     "metadata": {},
     "output_type": "execute_result"
    }
   ],
   "source": [
    "cross_val_score(clf, X, y, scoring='accuracy', verbose=1, cv=2)"
   ]
  },
  {
   "cell_type": "markdown",
   "metadata": {},
   "source": [
    "## Check predicted classes in imagenet"
   ]
  },
  {
   "cell_type": "code",
   "execution_count": null,
   "metadata": {
    "collapsed": false
   },
   "outputs": [],
   "source": [
    "map(id_to_synset, model.predict(resize_images(X[0:10], 227, 227)).argmax(axis=1))\n",
    "#http://image-net.org/synset?wnid=n01773549"
   ]
  }
 ],
 "metadata": {
  "kernelspec": {
   "display_name": "Python 2",
   "language": "python",
   "name": "python2"
  },
  "language_info": {
   "codemirror_mode": {
    "name": "ipython",
    "version": 2
   },
   "file_extension": ".py",
   "mimetype": "text/x-python",
   "name": "python",
   "nbconvert_exporter": "python",
   "pygments_lexer": "ipython2",
   "version": "2.7.12"
  }
 },
 "nbformat": 4,
 "nbformat_minor": 0
}
